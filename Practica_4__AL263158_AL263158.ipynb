{
  "nbformat": 4,
  "nbformat_minor": 0,
  "metadata": {
    "colab": {
      "provenance": [],
      "authorship_tag": "ABX9TyPChBDOl48uD5tnAQtTdEfA",
      "include_colab_link": true
    },
    "kernelspec": {
      "name": "python3",
      "display_name": "Python 3"
    },
    "language_info": {
      "name": "python"
    }
  },
  "cells": [
    {
      "cell_type": "markdown",
      "metadata": {
        "id": "view-in-github",
        "colab_type": "text"
      },
      "source": [
        "<a href=\"https://colab.research.google.com/github/Hion-cy/ClassFiles/blob/main/Practica_4__AL263158_AL263158.ipynb\" target=\"_parent\"><img src=\"https://colab.research.google.com/assets/colab-badge.svg\" alt=\"Open In Colab\"/></a>"
      ]
    },
    {
      "cell_type": "markdown",
      "source": [
        "#Practica 4\n",
        "\n",
        "* Matricula AL263158\n",
        "* Programación para analítica descriptiva y predictiva\n"
      ],
      "metadata": {
        "id": "rZRpTN1ixAzz"
      }
    },
    {
      "cell_type": "code",
      "source": [
        "import numpy as np"
      ],
      "metadata": {
        "id": "iv8zWXmQxAh3"
      },
      "execution_count": 2,
      "outputs": []
    },
    {
      "cell_type": "markdown",
      "source": [
        "Manipulación de matrices\n",
        "\n",
        "Crea dos matrices de 3x3 con números aleatorios entre 1 y 10. Realiza las siguientes operaciones:\n",
        "\n",
        "Suma ambas matrices.\n",
        "Resta la segunda matriz de la primera.\n",
        "Multiplica la primera matriz por 2.\n",
        "Realiza una multiplicación matricial entre las dos matrices."
      ],
      "metadata": {
        "id": "W2s-7WCHxHr7"
      }
    },
    {
      "cell_type": "code",
      "execution_count": 7,
      "metadata": {
        "colab": {
          "base_uri": "https://localhost:8080/"
        },
        "id": "XI8x8jCQw_xF",
        "outputId": "cf4534e5-1309-47f1-b6c8-d3d2e5427a6e"
      },
      "outputs": [
        {
          "output_type": "stream",
          "name": "stdout",
          "text": [
            "Matriz A:\n",
            "[[2 3 4]\n",
            " [9 8 7]\n",
            " [2 5 9]]\n",
            "Matriz B:\n",
            "[[1 6 4]\n",
            " [2 8 6]\n",
            " [5 4 3]]\n"
          ]
        }
      ],
      "source": [
        "A = np.random.randint(1, 11, (3, 3))\n",
        "B = np.random.randint(1, 11, (3, 3))\n",
        "print(f'Matriz A:\\n{A}')\n",
        "print(f'Matriz B:\\n{B}')"
      ]
    },
    {
      "cell_type": "code",
      "source": [
        "rsuma=A+B\n",
        "print(f'Suma de matrices:\\n{rsuma}')"
      ],
      "metadata": {
        "colab": {
          "base_uri": "https://localhost:8080/"
        },
        "id": "Xw44FiKgxapL",
        "outputId": "27b722b8-8de1-4607-8c4b-406d485c54f8"
      },
      "execution_count": 8,
      "outputs": [
        {
          "output_type": "stream",
          "name": "stdout",
          "text": [
            "Suma de matrices:\n",
            "[[ 3  9  8]\n",
            " [11 16 13]\n",
            " [ 7  9 12]]\n"
          ]
        }
      ]
    },
    {
      "cell_type": "code",
      "source": [
        "rresta=A-B\n",
        "print(f'Resta de matrices:\\n{rresta}')"
      ],
      "metadata": {
        "colab": {
          "base_uri": "https://localhost:8080/"
        },
        "id": "8z1xHJW4xae7",
        "outputId": "74856262-f5e0-4728-92d7-8bff729fe93b"
      },
      "execution_count": 9,
      "outputs": [
        {
          "output_type": "stream",
          "name": "stdout",
          "text": [
            "Resta de matrices:\n",
            "[[ 1 -3  0]\n",
            " [ 7  0  1]\n",
            " [-3  1  6]]\n"
          ]
        }
      ]
    },
    {
      "cell_type": "code",
      "source": [
        "ma2= A * 2\n",
        "print(f'Multiplicación de matriz A por 2:\\n{ma2}')"
      ],
      "metadata": {
        "colab": {
          "base_uri": "https://localhost:8080/"
        },
        "id": "Th4wPM72yDbM",
        "outputId": "5bf4f577-2f3a-4dc9-b008-bfa579fc9376"
      },
      "execution_count": 10,
      "outputs": [
        {
          "output_type": "stream",
          "name": "stdout",
          "text": [
            "Multiplicación de matriz A por 2:\n",
            "[[ 4  6  8]\n",
            " [18 16 14]\n",
            " [ 4 10 18]]\n"
          ]
        }
      ]
    },
    {
      "cell_type": "code",
      "source": [
        "C = np.dot(A, B)\n",
        "print(f'Multiplicación de matrices A y B:\\n{C}')"
      ],
      "metadata": {
        "colab": {
          "base_uri": "https://localhost:8080/"
        },
        "id": "RKrGmKUPyNsn",
        "outputId": "c112b8b7-7340-49b2-ce55-796672fdfa20"
      },
      "execution_count": 11,
      "outputs": [
        {
          "output_type": "stream",
          "name": "stdout",
          "text": [
            "Multiplicación de matrices A y B:\n",
            "[[ 28  52  38]\n",
            " [ 60 146 105]\n",
            " [ 57  88  65]]\n"
          ]
        }
      ]
    }
  ]
}