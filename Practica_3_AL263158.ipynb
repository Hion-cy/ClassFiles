{
  "nbformat": 4,
  "nbformat_minor": 0,
  "metadata": {
    "colab": {
      "provenance": [],
      "toc_visible": true,
      "mount_file_id": "1vFrk9TZpbxAxXMLSlCS5U4V6WtznTBf6",
      "authorship_tag": "ABX9TyMebZnxl5BgBvSIiRsCjfFr",
      "include_colab_link": true
    },
    "kernelspec": {
      "name": "python3",
      "display_name": "Python 3"
    },
    "language_info": {
      "name": "python"
    }
  },
  "cells": [
    {
      "cell_type": "markdown",
      "metadata": {
        "id": "view-in-github",
        "colab_type": "text"
      },
      "source": [
        "<a href=\"https://colab.research.google.com/github/Hion-cy/ClassFiles/blob/main/Practica_3_AL263158.ipynb\" target=\"_parent\"><img src=\"https://colab.research.google.com/assets/colab-badge.svg\" alt=\"Open In Colab\"/></a>"
      ]
    },
    {
      "cell_type": "markdown",
      "source": [
        "# Practica 3\n",
        "\n",
        "* Matricula AL263158\n",
        "* Programación para analítica descriptiva y predictiva\n"
      ],
      "metadata": {
        "id": "VcYA37_otWLA"
      }
    },
    {
      "cell_type": "code",
      "source": [
        "import numpy as np"
      ],
      "metadata": {
        "id": "6QcIUeZgtfHt"
      },
      "execution_count": 1,
      "outputs": []
    },
    {
      "cell_type": "markdown",
      "source": [
        "Crea un arreglo unidimensional de 20 elementos con valores aleatorios entre 1 y 100. Luego, realiza las siguientes operaciones:\n",
        "\n",
        "Encuentra el valor máximo del arreglo.\n",
        "\n",
        "Encuentra el valor mínimo del arreglo.\n",
        "\n",
        "Calcula la media del arreglo.\n",
        "\n",
        "Suma 10 a cada elemento del arreglo."
      ],
      "metadata": {
        "id": "8YsUA0X-tS8X"
      }
    },
    {
      "cell_type": "code",
      "source": [
        "arr = np.random.randint(1, 101, 20)\n",
        "for numero in arr:\n",
        "    print(numero)"
      ],
      "metadata": {
        "colab": {
          "base_uri": "https://localhost:8080/"
        },
        "id": "kFgZ-VUhtScH",
        "outputId": "bb47ef55-0e2d-4616-f46e-53316b1f0d6f"
      },
      "execution_count": 4,
      "outputs": [
        {
          "output_type": "stream",
          "name": "stdout",
          "text": [
            "21\n",
            "100\n",
            "39\n",
            "80\n",
            "33\n",
            "7\n",
            "14\n",
            "100\n",
            "57\n",
            "64\n",
            "8\n",
            "47\n",
            "95\n",
            "12\n",
            "4\n",
            "46\n",
            "49\n",
            "92\n",
            "58\n",
            "22\n"
          ]
        }
      ]
    },
    {
      "cell_type": "code",
      "source": [
        "max = np.max(arr)\n",
        "print(f'El valor maximo es {max}')"
      ],
      "metadata": {
        "colab": {
          "base_uri": "https://localhost:8080/"
        },
        "id": "kvG3bXpUtpm4",
        "outputId": "ff254c8d-32ff-46e2-ceec-2897b0573a04"
      },
      "execution_count": 6,
      "outputs": [
        {
          "output_type": "stream",
          "name": "stdout",
          "text": [
            "El valor maximo es 100\n"
          ]
        }
      ]
    },
    {
      "cell_type": "code",
      "source": [
        "min = np.min(arr)\n",
        "print(f'El valor minimo es {min}')"
      ],
      "metadata": {
        "colab": {
          "base_uri": "https://localhost:8080/"
        },
        "id": "QOu_LSUtuCoy",
        "outputId": "1afd1e38-3b48-4127-d90d-269bf80fd3e6"
      },
      "execution_count": 7,
      "outputs": [
        {
          "output_type": "stream",
          "name": "stdout",
          "text": [
            "El valor minimo es 4\n"
          ]
        }
      ]
    },
    {
      "cell_type": "code",
      "source": [
        "media = np.mean(arr)\n",
        "print(f'El promedio es {media}')"
      ],
      "metadata": {
        "colab": {
          "base_uri": "https://localhost:8080/"
        },
        "id": "ddDe-XaIuVeb",
        "outputId": "597b447a-7c26-4bf1-c312-970e00a75fe8"
      },
      "execution_count": 8,
      "outputs": [
        {
          "output_type": "stream",
          "name": "stdout",
          "text": [
            "El promedio es 47.4\n"
          ]
        }
      ]
    },
    {
      "cell_type": "code",
      "source": [
        "#Suma directa al arreglo\n",
        "arr10 = arr + 10\n",
        "for numero in arr10:\n",
        "    print(numero)\n",
        "\n",
        "#Sum por pasos\n",
        "\"\"\"arrpasos=[]\n",
        "for numero in arr:\n",
        "    arrpasos.append(numero+10)\n",
        "for numero in arrpasos:\n",
        "    print(numero)\"\"\""
      ],
      "metadata": {
        "colab": {
          "base_uri": "https://localhost:8080/",
          "height": 383
        },
        "id": "hQfMXvoDu2gq",
        "outputId": "c42ca03a-72f9-4af2-d36a-6073b3fdcdd7"
      },
      "execution_count": 12,
      "outputs": [
        {
          "output_type": "stream",
          "name": "stdout",
          "text": [
            "31\n",
            "110\n",
            "49\n",
            "90\n",
            "43\n",
            "17\n",
            "24\n",
            "110\n",
            "67\n",
            "74\n",
            "18\n",
            "57\n",
            "105\n",
            "22\n",
            "14\n",
            "56\n",
            "59\n",
            "102\n",
            "68\n",
            "32\n"
          ]
        },
        {
          "output_type": "execute_result",
          "data": {
            "text/plain": [
              "'arrpasos=[]\\nfor numero in arr:\\n    arrpasos.append(numero+10)\\nfor numero in arrpasos:\\n    print(numero)'"
            ],
            "application/vnd.google.colaboratory.intrinsic+json": {
              "type": "string"
            }
          },
          "metadata": {},
          "execution_count": 12
        }
      ]
    }
  ]
}