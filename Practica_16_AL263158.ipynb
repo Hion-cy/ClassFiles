{
  "nbformat": 4,
  "nbformat_minor": 0,
  "metadata": {
    "colab": {
      "provenance": [],
      "mount_file_id": "1tjjtm7HjY_4OMbNa0zvMDi5LrFNrdngd",
      "authorship_tag": "ABX9TyO6oVp85leG2XDlB7OjF3bK",
      "include_colab_link": true
    },
    "kernelspec": {
      "name": "python3",
      "display_name": "Python 3"
    },
    "language_info": {
      "name": "python"
    }
  },
  "cells": [
    {
      "cell_type": "markdown",
      "metadata": {
        "id": "view-in-github",
        "colab_type": "text"
      },
      "source": [
        "<a href=\"https://colab.research.google.com/github/Hion-cy/ClassFiles/blob/main/Practica_16_AL263158.ipynb\" target=\"_parent\"><img src=\"https://colab.research.google.com/assets/colab-badge.svg\" alt=\"Open In Colab\"/></a>"
      ]
    },
    {
      "cell_type": "markdown",
      "source": [
        "#Práctica 16: Datos Duplicados\n",
        "\n",
        "\n",
        "\n"
      ],
      "metadata": {
        "id": "4XnLUjoWmrgw"
      }
    },
    {
      "cell_type": "markdown",
      "source": [
        "* **Matricula** AL263158\n",
        "* Programación para analítica descriptiva y predictiva"
      ],
      "metadata": {
        "id": "BnfKrHaUGm5I"
      }
    },
    {
      "cell_type": "markdown",
      "source": [
        "####**Instrucciones:**"
      ],
      "metadata": {
        "id": "QjfbyjrV5Buv"
      }
    },
    {
      "cell_type": "markdown",
      "source": [
        "\n",
        "\n",
        "1. Descarga el archivo dirtydata.csv, proporcionado en esta tarea. También lo puedes encontrar en recursos.\n",
        "2. Crea un notebook en colab y guarda el archivo csv  en tu drive.\n",
        "3. Agrega secciones en el colab poniendo como título el nombre de cada ejercicio\n"
      ],
      "metadata": {
        "id": "5Ztz0DHUvtRI"
      }
    },
    {
      "cell_type": "code",
      "source": [
        "import pandas as pd\n",
        "import numpy as np\n",
        "df = pd.read_csv('/content/drive/MyDrive/ClassFiles/dirtydata.csv')\n",
        "print(df.head())"
      ],
      "metadata": {
        "colab": {
          "base_uri": "https://localhost:8080/"
        },
        "id": "o1Cgkea5xg7J",
        "outputId": "cdb0e823-5797-4ffc-a3e5-25b1a39ecb04"
      },
      "execution_count": 38,
      "outputs": [
        {
          "output_type": "stream",
          "name": "stdout",
          "text": [
            "   Duration          Date  Pulse  Maxpulse  Calories\n",
            "0        60  '2020/12/01'    110       130     409.1\n",
            "1        60  '2020/12/02'    117       145     479.0\n",
            "2        60  '2020/12/03'    103       135     340.0\n",
            "3        45  '2020/12/04'    109       175     282.4\n",
            "4        45  '2020/12/05'    117       148     406.0\n"
          ]
        }
      ]
    },
    {
      "cell_type": "markdown",
      "source": [
        "###Ejercicio 01. Datos Perdidos."
      ],
      "metadata": {
        "id": "Bmd8suVSvvJg"
      }
    },
    {
      "cell_type": "markdown",
      "source": [
        "1. Carga el conjunto de datos dirty.csv y verifica que su carga sea correcta.\n",
        "2. Imprime la cantidad de datos perdidos que tiene el conjunto de datos\n",
        "3. Calcula la media de la columna Calories\n",
        "4. Aplica imputación por promedio (mean) en la columna Calories\n",
        "5. Calcula de nuevo la media de la columna Calories después de que has imputado."
      ],
      "metadata": {
        "id": "paaLZkpgv3k1"
      }
    },
    {
      "cell_type": "code",
      "source": [
        "import pandas as pd\n",
        "import numpy as np\n",
        "#1\n",
        "df = pd.read_csv('/content/drive/MyDrive/ClassFiles/dirtydata.csv')\n",
        "print(df.head())\n",
        "#2\n",
        "missdata = df.isnull().sum()\n",
        "print(\"\\nDatos perdidos\\n\")\n",
        "print(missdata)\n",
        "\n",
        "#3\n",
        "or_avg=df['Calories'].mean()\n",
        "print(f\"Promedio inicial: {or_avg}\")\n",
        "#4\n",
        "df['Calories'] = df['Calories'].fillna(or_avg)\n",
        "\n",
        "#5\n",
        "new_avg=df['Calories'].mean()\n",
        "print(f\"Promedio final: {new_avg}\")"
      ],
      "metadata": {
        "colab": {
          "base_uri": "https://localhost:8080/"
        },
        "id": "TNMmwejeyRN4",
        "outputId": "aa8cb803-8765-41cc-ad00-d20744fea2ad"
      },
      "execution_count": 53,
      "outputs": [
        {
          "output_type": "stream",
          "name": "stdout",
          "text": [
            "   Duration          Date  Pulse  Maxpulse  Calories\n",
            "0        60  '2020/12/01'    110       130     409.1\n",
            "1        60  '2020/12/02'    117       145     479.0\n",
            "2        60  '2020/12/03'    103       135     340.0\n",
            "3        45  '2020/12/04'    109       175     282.4\n",
            "4        45  '2020/12/05'    117       148     406.0\n",
            "\n",
            "Datos perdidos\n",
            "\n",
            "Duration    0\n",
            "Date        1\n",
            "Pulse       0\n",
            "Maxpulse    0\n",
            "Calories    2\n",
            "dtype: int64\n",
            "Promedio inicial: 304.68\n",
            "Promedio final: 304.67999999999995\n"
          ]
        }
      ]
    },
    {
      "cell_type": "markdown",
      "source": [
        "###Ejercicio 02. Duplicidad Parcial Una columna: Contar y Filtrar los registros duplicados en Duration\n",
        "\n"
      ],
      "metadata": {
        "id": "f23n6NOy1vWW"
      }
    },
    {
      "cell_type": "markdown",
      "source": [
        "1. Carga el conjunto de datos dirty.csv y verifica que su carga sea correcta.\n",
        "2. Cuenta la cantidad de registros duplicados utilizando solo la información de columna Duration e imprime\n",
        "3. Utiliza value_counts() e imprime la cantidad de registros que hay por cada valor único.\n",
        "4. Filtra los datos y obten los registros sin duplicados"
      ],
      "metadata": {
        "id": "bT-pSeeq1y_Y"
      }
    },
    {
      "cell_type": "code",
      "source": [
        "import pandas as pd\n",
        "import numpy as np\n",
        "#1\n",
        "df = pd.read_csv('/content/drive/MyDrive/ClassFiles/dirtydata.csv')\n",
        "print(df.head())\n",
        "\n",
        "#2\n",
        "dup=df.duplicated(subset='Duration').sum()\n",
        "print(f\"Total de registros duplicados: {dup}\\n\")\n",
        "print(df.duplicated(subset='Duration'))\n",
        "\n",
        "#3\n",
        "print(\"\\n\")\n",
        "v_unique=df['Duration'].value_counts()\n",
        "print(f\"Valores unicos en la columna Duration: {v_unique}\")\n",
        "\n",
        "#4\n",
        "dffiltrado=df[~df.duplicated(subset='Duration')]\n",
        "print(\"\\nRegistros sin duplicados basados en la columna Duration:\\n\")\n",
        "print(dffiltrado)\n"
      ],
      "metadata": {
        "colab": {
          "base_uri": "https://localhost:8080/"
        },
        "id": "ojCV8erW1-wn",
        "outputId": "5edde8ce-fff7-42c8-f449-80ec67476fec"
      },
      "execution_count": 46,
      "outputs": [
        {
          "output_type": "stream",
          "name": "stdout",
          "text": [
            "   Duration          Date  Pulse  Maxpulse  Calories\n",
            "0        60  '2020/12/01'    110       130     409.1\n",
            "1        60  '2020/12/02'    117       145     479.0\n",
            "2        60  '2020/12/03'    103       135     340.0\n",
            "3        45  '2020/12/04'    109       175     282.4\n",
            "4        45  '2020/12/05'    117       148     406.0\n",
            "Total de registros duplicados: 28\n",
            "\n",
            "0     False\n",
            "1      True\n",
            "2      True\n",
            "3     False\n",
            "4      True\n",
            "5      True\n",
            "6      True\n",
            "7     False\n",
            "8     False\n",
            "9      True\n",
            "10     True\n",
            "11     True\n",
            "12     True\n",
            "13     True\n",
            "14     True\n",
            "15     True\n",
            "16     True\n",
            "17     True\n",
            "18     True\n",
            "19     True\n",
            "20     True\n",
            "21     True\n",
            "22     True\n",
            "23     True\n",
            "24     True\n",
            "25     True\n",
            "26     True\n",
            "27     True\n",
            "28     True\n",
            "29     True\n",
            "30     True\n",
            "31     True\n",
            "dtype: bool\n",
            "\n",
            "\n",
            "Valores unicos en la columna Duration: Duration\n",
            "60     24\n",
            "45      6\n",
            "450     1\n",
            "30      1\n",
            "Name: count, dtype: int64\n",
            "\n",
            "Registros sin duplicados basados en la columna Duration:\n",
            "\n",
            "   Duration          Date  Pulse  Maxpulse  Calories\n",
            "0        60  '2020/12/01'    110       130     409.1\n",
            "3        45  '2020/12/04'    109       175     282.4\n",
            "7       450  '2020/12/08'    104       134     253.3\n",
            "8        30  '2020/12/09'    109       133     195.1\n"
          ]
        }
      ]
    },
    {
      "cell_type": "markdown",
      "source": [
        "###Ejercicio 03 Duplicidad Parcial Dos columnaa: Contar y Filtrar los registros duplicados en Pulse y MaxPulse"
      ],
      "metadata": {
        "id": "u2Ky7pgL5HHJ"
      }
    },
    {
      "cell_type": "markdown",
      "source": [
        "1. Carga el conjunto de datos dirty.csv y verifica que su carga sea correcta.\n",
        "2. Cuenta la cantidad de registros duplicados utilizando la información de las columnas Pulse y Maxpulse\n",
        "3. Utiliza value_counts() e imprime la cantidad de registros que hay por cada valor único.\n",
        "4. Filtra los datos y obten los registros cuando keep = 'last'"
      ],
      "metadata": {
        "id": "MPSNt6f25Kz3"
      }
    },
    {
      "cell_type": "code",
      "source": [
        "#1\n",
        "import pandas as pd\n",
        "import numpy as np\n",
        "df = pd.read_csv('/content/drive/MyDrive/ClassFiles/dirtydata.csv')\n",
        "print(df.head())\n",
        "\n",
        "#2\n",
        "df_dup=df.duplicated(subset=['Pulse','Maxpulse']).sum()\n",
        "print(f\"Total de registros duplicados: {df_dup}\\n\")\n",
        "#print(df.duplicated(subset=['Pulse','Maxpulse']))\n",
        "\n",
        "#3\n",
        "uni_v = df.value_counts(subset=['Pulse', 'Maxpulse'])\n",
        "print(\"\\nFrecuencia de cada combinación Pulse + Maxpulse:\\n\")\n",
        "print(uni_v)\n",
        "\n",
        "#4\n",
        "df_filtrado2=df[~df.duplicated(subset=['Pulse','Maxpulse'], keep='last')]\n",
        "print(\"\\nRegistros sin duplicados basados en las columnas Pulse y Maxpulse:\\n\")\n",
        "print(df_filtrado2)\n",
        "#"
      ],
      "metadata": {
        "colab": {
          "base_uri": "https://localhost:8080/"
        },
        "id": "cqYINXFf5KfA",
        "outputId": "07cc2bd6-fd5a-45f9-b8d5-57efa608e20e"
      },
      "execution_count": 45,
      "outputs": [
        {
          "output_type": "stream",
          "name": "stdout",
          "text": [
            "   Duration          Date  Pulse  Maxpulse  Calories\n",
            "0        60  '2020/12/01'    110       130     409.1\n",
            "1        60  '2020/12/02'    117       145     479.0\n",
            "2        60  '2020/12/03'    103       135     340.0\n",
            "3        45  '2020/12/04'    109       175     282.4\n",
            "4        45  '2020/12/05'    117       148     406.0\n",
            "Total de registros duplicados: 3\n",
            "\n",
            "\n",
            "Frecuencia de cada combinación Pulse + Maxpulse:\n",
            "\n",
            "Pulse  Maxpulse\n",
            "100    120         4\n",
            "92     115         1\n",
            "       118         1\n",
            "97     125         1\n",
            "90     112         1\n",
            "98     120         1\n",
            "       123         1\n",
            "       124         1\n",
            "100    119         1\n",
            "       132         1\n",
            "102    126         1\n",
            "       127         1\n",
            "       129         1\n",
            "103    123         1\n",
            "       132         1\n",
            "       135         1\n",
            "       147         1\n",
            "104    132         1\n",
            "       134         1\n",
            "105    132         1\n",
            "106    128         1\n",
            "108    131         1\n",
            "109    133         1\n",
            "       175         1\n",
            "110    130         1\n",
            "       136         1\n",
            "117    145         1\n",
            "       148         1\n",
            "130    101         1\n",
            "Name: count, dtype: int64\n",
            "\n",
            "Registros sin duplicados basados en las columnas Pulse y Maxpulse:\n",
            "\n",
            "    Duration          Date  Pulse  Maxpulse  Calories\n",
            "0         60  '2020/12/01'    110       130     409.1\n",
            "1         60  '2020/12/02'    117       145     479.0\n",
            "2         60  '2020/12/03'    103       135     340.0\n",
            "3         45  '2020/12/04'    109       175     282.4\n",
            "4         45  '2020/12/05'    117       148     406.0\n",
            "5         60  '2020/12/06'    102       127     300.0\n",
            "6         60  '2020/12/07'    110       136     374.0\n",
            "7        450  '2020/12/08'    104       134     253.3\n",
            "8         30  '2020/12/09'    109       133     195.1\n",
            "9         60  '2020/12/10'     98       124     269.0\n",
            "10        60  '2020/12/11'    103       147     329.3\n",
            "13        60  '2020/12/13'    106       128     345.3\n",
            "14        60  '2020/12/14'    104       132     379.3\n",
            "15        60  '2020/12/15'     98       123     275.0\n",
            "16        60  '2020/12/16'     98       120     215.2\n",
            "18        45  '2020/12/18'     90       112       NaN\n",
            "19        60  '2020/12/19'    103       123     323.0\n",
            "20        45  '2020/12/20'     97       125     243.0\n",
            "21        60  '2020/12/21'    108       131     364.2\n",
            "22        45           NaN    100       119     282.0\n",
            "23        60  '2020/12/23'    130       101     300.0\n",
            "24        45  '2020/12/24'    105       132     246.0\n",
            "25        60  '2020/12/25'    102       126     334.5\n",
            "26        60      20201226    100       120     250.0\n",
            "27        60  '2020/12/27'     92       118     241.0\n",
            "28        60  '2020/12/28'    103       132       NaN\n",
            "29        60  '2020/12/29'    100       132     280.0\n",
            "30        60  '2020/12/30'    102       129     380.3\n",
            "31        60  '2020/12/31'     92       115     243.0\n"
          ]
        }
      ]
    },
    {
      "cell_type": "markdown",
      "source": [
        "###Ejercicio 04 Duplicidad Total o Exacta: Contar y Filtrar los registros duplicados"
      ],
      "metadata": {
        "id": "Euls057NAtRe"
      }
    },
    {
      "cell_type": "markdown",
      "source": [
        "1. Carga el conjunto de datos dirty.csv y verifica que su carga sea correcta.\n",
        "2. Cuenta la cantidad de registros duplicados exactos (todas las columnas)\n",
        "3. Utiliza sum() e imprime la cantidad de registros con duplicidad exacta\n",
        "4. Filtra los datos y obten los registros cuando keep = 'last'"
      ],
      "metadata": {
        "id": "_XsbuSNoAzTw"
      }
    },
    {
      "cell_type": "code",
      "source": [
        "#1\n",
        "import pandas as pd\n",
        "import numpy as np\n",
        "df = pd.read_csv('/content/drive/MyDrive/ClassFiles/dirtydata.csv')\n",
        "print(df.head())\n",
        "\n",
        "#2\n",
        "conteo=df.value_counts()\n",
        "print(conteo)\n",
        "\n",
        "#3\n",
        "df_dupex=df.duplicated().sum()\n",
        "print(f\"Total de registros con duplicidad exacta: {df_dupex}\\n\")\n",
        "\n",
        "#4\n",
        "df_filtrado3=df[~df.duplicated(keep='last')]\n",
        "print(\"\\nRegistros sin duplicados basados en todas las columnas:\\n\")\n",
        "print(df_filtrado3)\n"
      ],
      "metadata": {
        "colab": {
          "base_uri": "https://localhost:8080/"
        },
        "id": "PGpa92Q3BnOv",
        "outputId": "7d05cfb6-56ec-4c2b-b2b8-58c8adab5904"
      },
      "execution_count": 55,
      "outputs": [
        {
          "output_type": "stream",
          "name": "stdout",
          "text": [
            "   Duration          Date  Pulse  Maxpulse  Calories\n",
            "0        60  '2020/12/01'    110       130     409.1\n",
            "1        60  '2020/12/02'    117       145     479.0\n",
            "2        60  '2020/12/03'    103       135     340.0\n",
            "3        45  '2020/12/04'    109       175     282.4\n",
            "4        45  '2020/12/05'    117       148     406.0\n",
            "Duration  Date          Pulse  Maxpulse  Calories\n",
            "60        '2020/12/12'  100    120       250.7       2\n",
            "30        '2020/12/09'  109    133       195.1       1\n",
            "45        '2020/12/05'  117    148       406.0       1\n",
            "          '2020/12/04'  109    175       282.4       1\n",
            "          '2020/12/24'  105    132       246.0       1\n",
            "60        '2020/12/01'  110    130       409.1       1\n",
            "          '2020/12/02'  117    145       479.0       1\n",
            "          '2020/12/03'  103    135       340.0       1\n",
            "          '2020/12/06'  102    127       300.0       1\n",
            "          '2020/12/07'  110    136       374.0       1\n",
            "          '2020/12/10'  98     124       269.0       1\n",
            "45        '2020/12/20'  97     125       243.0       1\n",
            "60        '2020/12/11'  103    147       329.3       1\n",
            "          '2020/12/13'  106    128       345.3       1\n",
            "          '2020/12/14'  104    132       379.3       1\n",
            "          '2020/12/15'  98     123       275.0       1\n",
            "          '2020/12/16'  98     120       215.2       1\n",
            "          '2020/12/17'  100    120       300.0       1\n",
            "          '2020/12/19'  103    123       323.0       1\n",
            "          '2020/12/21'  108    131       364.2       1\n",
            "          '2020/12/23'  130    101       300.0       1\n",
            "          '2020/12/25'  102    126       334.5       1\n",
            "          '2020/12/27'  92     118       241.0       1\n",
            "          '2020/12/29'  100    132       280.0       1\n",
            "          '2020/12/30'  102    129       380.3       1\n",
            "          '2020/12/31'  92     115       243.0       1\n",
            "          20201226      100    120       250.0       1\n",
            "450       '2020/12/08'  104    134       253.3       1\n",
            "Name: count, dtype: int64\n",
            "Total de registros con duplicidad exacta: 1\n",
            "\n",
            "\n",
            "Registros sin duplicados basados en todas las columnas:\n",
            "\n",
            "    Duration          Date  Pulse  Maxpulse  Calories\n",
            "0         60  '2020/12/01'    110       130     409.1\n",
            "1         60  '2020/12/02'    117       145     479.0\n",
            "2         60  '2020/12/03'    103       135     340.0\n",
            "3         45  '2020/12/04'    109       175     282.4\n",
            "4         45  '2020/12/05'    117       148     406.0\n",
            "5         60  '2020/12/06'    102       127     300.0\n",
            "6         60  '2020/12/07'    110       136     374.0\n",
            "7        450  '2020/12/08'    104       134     253.3\n",
            "8         30  '2020/12/09'    109       133     195.1\n",
            "9         60  '2020/12/10'     98       124     269.0\n",
            "10        60  '2020/12/11'    103       147     329.3\n",
            "12        60  '2020/12/12'    100       120     250.7\n",
            "13        60  '2020/12/13'    106       128     345.3\n",
            "14        60  '2020/12/14'    104       132     379.3\n",
            "15        60  '2020/12/15'     98       123     275.0\n",
            "16        60  '2020/12/16'     98       120     215.2\n",
            "17        60  '2020/12/17'    100       120     300.0\n",
            "18        45  '2020/12/18'     90       112       NaN\n",
            "19        60  '2020/12/19'    103       123     323.0\n",
            "20        45  '2020/12/20'     97       125     243.0\n",
            "21        60  '2020/12/21'    108       131     364.2\n",
            "22        45           NaN    100       119     282.0\n",
            "23        60  '2020/12/23'    130       101     300.0\n",
            "24        45  '2020/12/24'    105       132     246.0\n",
            "25        60  '2020/12/25'    102       126     334.5\n",
            "26        60      20201226    100       120     250.0\n",
            "27        60  '2020/12/27'     92       118     241.0\n",
            "28        60  '2020/12/28'    103       132       NaN\n",
            "29        60  '2020/12/29'    100       132     280.0\n",
            "30        60  '2020/12/30'    102       129     380.3\n",
            "31        60  '2020/12/31'     92       115     243.0\n"
          ]
        }
      ]
    },
    {
      "cell_type": "markdown",
      "source": [
        "###Ejercicio 05: Cálculo de la media con duplicados y sin duplicados"
      ],
      "metadata": {
        "id": "OCJv02xCDRtV"
      }
    },
    {
      "cell_type": "markdown",
      "source": [
        "1. Carga el conjunto de datos dirty.csv y verifica que su carga sea correcta.\n",
        "2. Calcula e imprime la media de las columnas Pulse y MaxPulse\n",
        "3. Identifica los valores duplicados en las columnas Pulse y MaxPulse (Duplicidad Parcial) y elimina los registro repetidos. Quédate con las últimas ocurrencias\n",
        "4. Utiliza el conjunto anterior sin datos duplicados (recuerda que solo quedaron las últimas ocurrencias de los datos) y calcula la media de las columnas Pulse y MaxPulse"
      ],
      "metadata": {
        "id": "FBfLihsMDWnv"
      }
    },
    {
      "cell_type": "code",
      "source": [],
      "metadata": {
        "id": "gec0R6nrF3m3"
      },
      "execution_count": null,
      "outputs": []
    },
    {
      "cell_type": "code",
      "source": [
        "#1\n",
        "import pandas as pd\n",
        "import numpy as np\n",
        "df = pd.read_csv('/content/drive/MyDrive/ClassFiles/dirtydata.csv')\n",
        "print(df.head())\n",
        "#2\n",
        "print(\"\\n\")\n",
        "m_pulse=df['Pulse'].mean()\n",
        "m_maxpulse=df['Maxpulse'].mean()\n",
        "print(f\"Media de Pulse: {m_pulse}\")\n",
        "print(f\"Media de Maxpulse: {m_maxpulse}\")\n",
        "\n",
        "#3\n",
        "dup_pmaxp=df.duplicated(subset=['Pulse','Maxpulse'], keep='last')\n",
        "print(\"\\nDuplicados en las columnas Pulse y Maxpulse\")\n",
        "print(dup_pmaxp)\n",
        "#df_nodup=df[~dup_pmaxp]\n",
        "df_nodup = df.drop_duplicates(subset=['Pulse','Maxpulse'], keep='last')\n",
        "print(\"\\n\")\n",
        "print(df_nodup)\n",
        "\n",
        "#4\n",
        "avg_pulse=df_nodup['Pulse'].mean()\n",
        "avg_maxpulse=df_nodup['Maxpulse'].mean()\n",
        "print(\"\\n\")\n",
        "print(f\"Media de Pulse sin duplicados: {avg_pulse}\")\n",
        "print(f\"Media de Maxpulse sin duplicados: {avg_maxpulse}\")"
      ],
      "metadata": {
        "colab": {
          "base_uri": "https://localhost:8080/"
        },
        "id": "hnAbClgSDbus",
        "outputId": "5f23499d-70ac-4311-dfba-5ce73c0f6eef"
      },
      "execution_count": 68,
      "outputs": [
        {
          "output_type": "stream",
          "name": "stdout",
          "text": [
            "   Duration          Date  Pulse  Maxpulse  Calories\n",
            "0        60  '2020/12/01'    110       130     409.1\n",
            "1        60  '2020/12/02'    117       145     479.0\n",
            "2        60  '2020/12/03'    103       135     340.0\n",
            "3        45  '2020/12/04'    109       175     282.4\n",
            "4        45  '2020/12/05'    117       148     406.0\n",
            "\n",
            "\n",
            "Media de Pulse: 103.5\n",
            "Media de Maxpulse: 128.5\n",
            "\n",
            "Duplicados en las columnas Pulse y Maxpulse\n",
            "0     False\n",
            "1     False\n",
            "2     False\n",
            "3     False\n",
            "4     False\n",
            "5     False\n",
            "6     False\n",
            "7     False\n",
            "8     False\n",
            "9     False\n",
            "10    False\n",
            "11     True\n",
            "12     True\n",
            "13    False\n",
            "14    False\n",
            "15    False\n",
            "16    False\n",
            "17     True\n",
            "18    False\n",
            "19    False\n",
            "20    False\n",
            "21    False\n",
            "22    False\n",
            "23    False\n",
            "24    False\n",
            "25    False\n",
            "26    False\n",
            "27    False\n",
            "28    False\n",
            "29    False\n",
            "30    False\n",
            "31    False\n",
            "dtype: bool\n",
            "\n",
            "\n",
            "    Duration          Date  Pulse  Maxpulse  Calories\n",
            "0         60  '2020/12/01'    110       130     409.1\n",
            "1         60  '2020/12/02'    117       145     479.0\n",
            "2         60  '2020/12/03'    103       135     340.0\n",
            "3         45  '2020/12/04'    109       175     282.4\n",
            "4         45  '2020/12/05'    117       148     406.0\n",
            "5         60  '2020/12/06'    102       127     300.0\n",
            "6         60  '2020/12/07'    110       136     374.0\n",
            "7        450  '2020/12/08'    104       134     253.3\n",
            "8         30  '2020/12/09'    109       133     195.1\n",
            "9         60  '2020/12/10'     98       124     269.0\n",
            "10        60  '2020/12/11'    103       147     329.3\n",
            "13        60  '2020/12/13'    106       128     345.3\n",
            "14        60  '2020/12/14'    104       132     379.3\n",
            "15        60  '2020/12/15'     98       123     275.0\n",
            "16        60  '2020/12/16'     98       120     215.2\n",
            "18        45  '2020/12/18'     90       112       NaN\n",
            "19        60  '2020/12/19'    103       123     323.0\n",
            "20        45  '2020/12/20'     97       125     243.0\n",
            "21        60  '2020/12/21'    108       131     364.2\n",
            "22        45           NaN    100       119     282.0\n",
            "23        60  '2020/12/23'    130       101     300.0\n",
            "24        45  '2020/12/24'    105       132     246.0\n",
            "25        60  '2020/12/25'    102       126     334.5\n",
            "26        60      20201226    100       120     250.0\n",
            "27        60  '2020/12/27'     92       118     241.0\n",
            "28        60  '2020/12/28'    103       132       NaN\n",
            "29        60  '2020/12/29'    100       132     280.0\n",
            "30        60  '2020/12/30'    102       129     380.3\n",
            "31        60  '2020/12/31'     92       115     243.0\n",
            "\n",
            "\n",
            "Media de Pulse sin duplicados: 103.86206896551724\n",
            "Media de Maxpulse sin duplicados: 129.3793103448276\n"
          ]
        }
      ]
    },
    {
      "cell_type": "code",
      "source": [],
      "metadata": {
        "id": "QIGlFadMFy8m"
      },
      "execution_count": null,
      "outputs": []
    }
  ]
}