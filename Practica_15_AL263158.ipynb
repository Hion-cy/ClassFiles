{
  "nbformat": 4,
  "nbformat_minor": 0,
  "metadata": {
    "colab": {
      "provenance": [],
      "mount_file_id": "1dyfUWBBc5qvw_zXs30Pr4iNhux6DmCeB",
      "authorship_tag": "ABX9TyNmqLEkctD4aRXPz3xaN9nV",
      "include_colab_link": true
    },
    "kernelspec": {
      "name": "python3",
      "display_name": "Python 3"
    },
    "language_info": {
      "name": "python"
    }
  },
  "cells": [
    {
      "cell_type": "markdown",
      "metadata": {
        "id": "view-in-github",
        "colab_type": "text"
      },
      "source": [
        "<a href=\"https://colab.research.google.com/github/Hion-cy/ClassFiles/blob/main/Practica_15_AL263158.ipynb\" target=\"_parent\"><img src=\"https://colab.research.google.com/assets/colab-badge.svg\" alt=\"Open In Colab\"/></a>"
      ]
    },
    {
      "cell_type": "markdown",
      "source": [
        "#Práctica #15: Datos Temporales\n",
        "* **Matricula** AL263158\n",
        "* Programación para analítica descriptiva y predictiva\n",
        "\n",
        "**Instrucciones:**\n",
        "\n",
        "1. Descarga el archivo airdata.csv, proporcionado en esta tarea. También lo puedes encontrar en recursos.\n",
        "2. Crea un notebook en colab y guarda el archivo csv  en tu drive.\n",
        "3. Agrega secciones en el colab poniendo como título el nombre de cada ejercicio"
      ],
      "metadata": {
        "id": "8rjawcsVYJc4"
      }
    },
    {
      "cell_type": "code",
      "source": [
        "import pandas as pd\n",
        "import numpy as np\n",
        "import datetime as dt\n"
      ],
      "metadata": {
        "id": "k0crVqmsYEyN"
      },
      "execution_count": 31,
      "outputs": []
    },
    {
      "cell_type": "markdown",
      "source": [
        "#Ejercicio 01:Tipo de Datos Correcto"
      ],
      "metadata": {
        "id": "qJa8V6_pYdns"
      }
    },
    {
      "cell_type": "markdown",
      "source": [
        "1. Carga el conjunto de datos airdata.csv y verifica que cada columna tenga el tipo de datos correcto\n",
        "2. Si una columna de tipo temporal no está en el tipo de correcto realiza la conversión.\n",
        "3. Usa dtypes para mostrar que cada columna, principalmente la que contiene datos temporales, está en el tipo de datos correcto\n",
        "4. Imprime las primeras tres líneas"
      ],
      "metadata": {
        "id": "7_IFVIX6YnLz"
      }
    },
    {
      "cell_type": "code",
      "source": [
        "df = pd.read_csv(\"/content/drive/MyDrive/ClassFiles/Airdata.csv\")\n",
        "print(df.dtypes)\n",
        "print(\"\\n\")\n",
        "df['DateTime']=pd.to_datetime(df['DateTime'])\n",
        "print(df.dtypes)\n",
        "print(\"\\n\")\n",
        "print(df.head(3))"
      ],
      "metadata": {
        "colab": {
          "base_uri": "https://localhost:8080/"
        },
        "id": "Wj6tpj5eYdVj",
        "outputId": "cec35d0b-c55f-41bb-ab72-5cab132e36d2"
      },
      "execution_count": 33,
      "outputs": [
        {
          "output_type": "stream",
          "name": "stdout",
          "text": [
            "DateTime           object\n",
            "Temperature       float64\n",
            "Humidity            int64\n",
            "Wind_Speed        float64\n",
            "Wind_Direction    float64\n",
            "NO2_Location_A    float64\n",
            "NO2_Location_B    float64\n",
            "NO2_Location_C    float64\n",
            "dtype: object\n",
            "\n",
            "\n",
            "DateTime          datetime64[ns]\n",
            "Temperature              float64\n",
            "Humidity                   int64\n",
            "Wind_Speed               float64\n",
            "Wind_Direction           float64\n",
            "NO2_Location_A           float64\n",
            "NO2_Location_B           float64\n",
            "NO2_Location_C           float64\n",
            "dtype: object\n",
            "\n",
            "\n",
            "             DateTime  Temperature  Humidity  Wind_Speed  Wind_Direction  \\\n",
            "0 2020-01-01 00:00:00     2.180529        87    1.484318        75.96376   \n",
            "1 2020-01-01 01:00:00     1.490529        89    2.741678       113.19859   \n",
            "2 2020-01-01 02:00:00     1.690529        85    3.563818       135.00000   \n",
            "\n",
            "   NO2_Location_A  NO2_Location_B  NO2_Location_C  \n",
            "0           39.23           52.88           62.37  \n",
            "1           38.30           44.95           52.53  \n",
            "2             NaN           48.40           54.80  \n"
          ]
        }
      ]
    },
    {
      "cell_type": "markdown",
      "source": [
        "###Ejercicio 02: Extraer componentes de fecha y tiempo"
      ],
      "metadata": {
        "id": "4raegFV8azAW"
      }
    },
    {
      "cell_type": "markdown",
      "source": [
        "1. De la columna 'DateTime' extrae el año, mes, día y hora. Crea una nueva columna para cada componente que extraes\n",
        "2. Imprime las primeras tres líneas del dataframe que ahora deberá tener 4 nuevas columnas."
      ],
      "metadata": {
        "id": "bacpmeJMa2tx"
      }
    },
    {
      "cell_type": "code",
      "execution_count": 34,
      "metadata": {
        "colab": {
          "base_uri": "https://localhost:8080/"
        },
        "id": "jUZNyNKxWj3P",
        "outputId": "3c7fd388-90aa-4d32-f3c2-365c4c35214d"
      },
      "outputs": [
        {
          "output_type": "stream",
          "name": "stdout",
          "text": [
            "             DateTime  Temperature  Humidity  Wind_Speed  Wind_Direction  \\\n",
            "0 2020-01-01 00:00:00     2.180529        87    1.484318        75.96376   \n",
            "1 2020-01-01 01:00:00     1.490529        89    2.741678       113.19859   \n",
            "2 2020-01-01 02:00:00     1.690529        85    3.563818       135.00000   \n",
            "\n",
            "   NO2_Location_A  NO2_Location_B  NO2_Location_C  Year  Month  Day  Hour  \n",
            "0           39.23           52.88           62.37  2020      1    1     0  \n",
            "1           38.30           44.95           52.53  2020      1    1     1  \n",
            "2             NaN           48.40           54.80  2020      1    1     2  \n"
          ]
        }
      ],
      "source": [
        "df['Year']=df['DateTime'].dt.year\n",
        "df['Month']=df['DateTime'].dt.month\n",
        "df['Day']=df['DateTime'].dt.day\n",
        "df['Hour']=df['DateTime'].dt.hour\n",
        "print(df.head(3))"
      ]
    },
    {
      "cell_type": "markdown",
      "source": [
        "###Ejercicio 03: Aritmética - Suma de Intervalos (timedelta)"
      ],
      "metadata": {
        "id": "YjjfuHqebnKL"
      }
    },
    {
      "cell_type": "markdown",
      "source": [
        "1. Suma 10 días, 7 horas y 15 minutos a cada elemento de la columna 'DateTime'. Guarda el resultado en una nueva columna y agrega al dataframe.\n",
        "2. Imprime la columna 'DateTime' y la columna que resulta de sumar 10 días, 7 horas y 15 minutos."
      ],
      "metadata": {
        "id": "T0Fy4DKkboCS"
      }
    },
    {
      "cell_type": "code",
      "source": [
        "df['SumaDias']=df['DateTime']+pd.Timedelta(days=10,hours=7,minutes=15)\n",
        "print(df[['DateTime','SumaDias']])"
      ],
      "metadata": {
        "colab": {
          "base_uri": "https://localhost:8080/"
        },
        "id": "Ejez4HERbxMx",
        "outputId": "efb4f7c2-925f-44d1-a4c6-a001509876c1"
      },
      "execution_count": 35,
      "outputs": [
        {
          "output_type": "stream",
          "name": "stdout",
          "text": [
            "                DateTime            SumaDias\n",
            "0    2020-01-01 00:00:00 2020-01-11 07:15:00\n",
            "1    2020-01-01 01:00:00 2020-01-11 08:15:00\n",
            "2    2020-01-01 02:00:00 2020-01-11 09:15:00\n",
            "3    2020-01-01 03:00:00 2020-01-11 10:15:00\n",
            "4    2020-01-01 04:00:00 2020-01-11 11:15:00\n",
            "...                  ...                 ...\n",
            "8779 2020-12-31 19:00:00 2021-01-11 02:15:00\n",
            "8780 2020-12-31 20:00:00 2021-01-11 03:15:00\n",
            "8781 2020-12-31 21:00:00 2021-01-11 04:15:00\n",
            "8782 2020-12-31 22:00:00 2021-01-11 05:15:00\n",
            "8783 2020-12-31 23:00:00 2021-01-11 06:15:00\n",
            "\n",
            "[8784 rows x 2 columns]\n"
          ]
        }
      ]
    },
    {
      "cell_type": "markdown",
      "source": [
        "###Ejercicio 04: Timestamp"
      ],
      "metadata": {
        "id": "kk1QWJfccKnh"
      }
    },
    {
      "cell_type": "markdown",
      "source": [
        "1. Convierte la columna 'DateTime' la cual tiene un formato de fecha legible a a timestamp Unix. Guarda el resultado en una nueva columna\n",
        "2. Imprime las primeras tres filas de  la columna 'DateTime' y la columna que representa dicha fecha en timestamp Unix\n",
        ""
      ],
      "metadata": {
        "id": "IsdCv-0UcLmL"
      }
    },
    {
      "cell_type": "code",
      "source": [
        "#df['DateTimeUnix'] = [x.timestamp() for x in df['DateTime']]\n",
        "df['DateTimeUnix'] = df['DateTime'].astype(np.int64) // 10**9\n",
        "print(df[['DateTime','DateTimeUnix']].head(3))"
      ],
      "metadata": {
        "colab": {
          "base_uri": "https://localhost:8080/"
        },
        "id": "LKrwH0QFcOrq",
        "outputId": "c4c4ca1c-85c5-452f-bc51-bb0d1a454c50"
      },
      "execution_count": 37,
      "outputs": [
        {
          "output_type": "stream",
          "name": "stdout",
          "text": [
            "             DateTime  DateTimeUnix\n",
            "0 2020-01-01 00:00:00    1577836800\n",
            "1 2020-01-01 01:00:00    1577840400\n",
            "2 2020-01-01 02:00:00    1577844000\n"
          ]
        }
      ]
    },
    {
      "cell_type": "markdown",
      "source": [
        "###Ejercicio 05: Filtrado de Fechas"
      ],
      "metadata": {
        "id": "Qy2t3-ZddXFL"
      }
    },
    {
      "cell_type": "markdown",
      "source": [
        "1. Utiliza la columna 'DateTime' y Filtra aquellas fechas que son mayores a 2020-11-01\n",
        "2. Imprime el resultado"
      ],
      "metadata": {
        "id": "C8RmKcJhdZqq"
      }
    },
    {
      "cell_type": "code",
      "source": [
        "df_filtrado=df[df['DateTime']>='2020-11-01']\n",
        "print(df)"
      ],
      "metadata": {
        "colab": {
          "base_uri": "https://localhost:8080/"
        },
        "id": "S8kaxX3QdYR0",
        "outputId": "888f4b83-6905-4f10-b4ea-3ff56eb7a923"
      },
      "execution_count": 24,
      "outputs": [
        {
          "output_type": "stream",
          "name": "stdout",
          "text": [
            "                DateTime  Temperature  Humidity  Wind_Speed  Wind_Direction  \\\n",
            "7320 2020-11-01 00:00:00    12.740529        80    7.491114       144.78241   \n",
            "7321 2020-11-01 01:00:00    13.620529        58    6.638072       130.60129   \n",
            "7322 2020-11-01 02:00:00    13.980529        40    6.618519       157.61987   \n",
            "7323 2020-11-01 03:00:00    13.010529        43    8.209263       164.74487   \n",
            "7324 2020-11-01 04:00:00    12.190529        51    7.568566       154.65382   \n",
            "...                  ...          ...       ...         ...             ...   \n",
            "8779 2020-12-31 19:00:00     4.920528        72    4.553680       251.56506   \n",
            "8780 2020-12-31 20:00:00     4.990529        74    3.259939       186.34020   \n",
            "8781 2020-12-31 21:00:00     4.360529        84   10.587917       252.18112   \n",
            "8782 2020-12-31 22:00:00     3.820528        88    8.435069       219.80557   \n",
            "8783 2020-12-31 23:00:00     3.170529        89    6.792466       212.00539   \n",
            "\n",
            "      NO2_Location_A  NO2_Location_B  NO2_Location_C  Year  Month  Day  Hour  \\\n",
            "7320           24.03             NaN           52.03  2020     11    1     0   \n",
            "7321           17.50           23.88           44.07  2020     11    1     1   \n",
            "7322           13.38           18.92           35.80  2020     11    1     2   \n",
            "7323           11.95           13.95           30.15  2020     11    1     3   \n",
            "7324           10.10           14.35           31.45  2020     11    1     4   \n",
            "...              ...             ...             ...   ...    ...  ...   ...   \n",
            "8779           53.44           32.65           66.82  2020     12   31    19   \n",
            "8780           49.80           34.03           67.31  2020     12   31    20   \n",
            "8781           43.32           25.55           59.33  2020     12   31    21   \n",
            "8782           39.88           19.90           43.70  2020     12   31    22   \n",
            "8783           39.04           30.33           46.87  2020     12   31    23   \n",
            "\n",
            "                SumaDias  DateTimeUnix  \n",
            "7320 2020-11-11 07:15:00  1.604189e+09  \n",
            "7321 2020-11-11 08:15:00  1.604192e+09  \n",
            "7322 2020-11-11 09:15:00  1.604196e+09  \n",
            "7323 2020-11-11 10:15:00  1.604200e+09  \n",
            "7324 2020-11-11 11:15:00  1.604203e+09  \n",
            "...                  ...           ...  \n",
            "8779 2021-01-11 02:15:00  1.609441e+09  \n",
            "8780 2021-01-11 03:15:00  1.609445e+09  \n",
            "8781 2021-01-11 04:15:00  1.609448e+09  \n",
            "8782 2021-01-11 05:15:00  1.609452e+09  \n",
            "8783 2021-01-11 06:15:00  1.609456e+09  \n",
            "\n",
            "[1464 rows x 14 columns]\n"
          ]
        }
      ]
    }
  ]
}