{
  "nbformat": 4,
  "nbformat_minor": 0,
  "metadata": {
    "colab": {
      "provenance": [],
      "authorship_tag": "ABX9TyPW3rQ+YfiNnAjix4ytk7Nh",
      "include_colab_link": true
    },
    "kernelspec": {
      "name": "python3",
      "display_name": "Python 3"
    },
    "language_info": {
      "name": "python"
    }
  },
  "cells": [
    {
      "cell_type": "markdown",
      "metadata": {
        "id": "view-in-github",
        "colab_type": "text"
      },
      "source": [
        "<a href=\"https://colab.research.google.com/github/Hion-cy/ClassFiles/blob/main/Practica_5_AL263158.ipynb\" target=\"_parent\"><img src=\"https://colab.research.google.com/assets/colab-badge.svg\" alt=\"Open In Colab\"/></a>"
      ]
    },
    {
      "cell_type": "markdown",
      "source": [
        "#Practica 5\n",
        "* Matricula AL263158\n",
        "* Programación para analítica descriptiva y predictiva"
      ],
      "metadata": {
        "id": "FmQprROX0is9"
      }
    },
    {
      "cell_type": "code",
      "source": [
        "import numpy as np"
      ],
      "metadata": {
        "id": "-ljg-WLD0hF_"
      },
      "execution_count": 1,
      "outputs": []
    },
    {
      "cell_type": "markdown",
      "source": [
        " Uso de máscaras booleanas\n",
        "\n",
        "Crea un arreglo unidimensional con 15 números aleatorios entre 1 y 50. Luego:\n",
        "\n",
        "Selecciona los elementos mayores que 25 utilizando una máscara booleana.\n",
        "Cuenta cuántos elementos son mayores que 25."
      ],
      "metadata": {
        "id": "10BZfIEb0grQ"
      }
    },
    {
      "cell_type": "code",
      "execution_count": 4,
      "metadata": {
        "colab": {
          "base_uri": "https://localhost:8080/"
        },
        "id": "DMwzoedz0L5n",
        "outputId": "0cc71c4b-ebf2-4887-f3eb-5d17dd6c9a37"
      },
      "outputs": [
        {
          "output_type": "stream",
          "name": "stdout",
          "text": [
            "Arreglo original: [20 37 24  0 41 49 41 13 21 15  5 45 38 12  8]\n"
          ]
        }
      ],
      "source": [
        "arr=np.random.randint(0, 51, 15)\n",
        "print(f'Arreglo original: {arr}')"
      ]
    },
    {
      "cell_type": "code",
      "source": [
        "mask1= arr > 25\n",
        "print(f'Arreglo con valores mayores a 25: {arr[mask1]}')"
      ],
      "metadata": {
        "colab": {
          "base_uri": "https://localhost:8080/"
        },
        "id": "QfCbFFg91HNF",
        "outputId": "6f4055d9-05e2-4b95-f376-67da9ab69bdd"
      },
      "execution_count": 6,
      "outputs": [
        {
          "output_type": "stream",
          "name": "stdout",
          "text": [
            "Arreglo con valores mayores a 25: [37 41 49 41 45 38]\n"
          ]
        }
      ]
    },
    {
      "cell_type": "code",
      "source": [
        "conteo= arr[mask1].size\n",
        "print(f'Cantidad de valores mayores a 25: {conteo}')\n",
        "#"
      ],
      "metadata": {
        "colab": {
          "base_uri": "https://localhost:8080/"
        },
        "id": "i1X_5_-u1cPi",
        "outputId": "dd8eeb82-7f77-406f-9fe4-a2bcc3ae2747"
      },
      "execution_count": 10,
      "outputs": [
        {
          "output_type": "stream",
          "name": "stdout",
          "text": [
            "Cantidad de valores mayores a 25: 6\n"
          ]
        }
      ]
    }
  ]
}