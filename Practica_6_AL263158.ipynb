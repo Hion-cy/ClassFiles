{
  "nbformat": 4,
  "nbformat_minor": 0,
  "metadata": {
    "colab": {
      "provenance": [],
      "mount_file_id": "1f3q2DAsjDkRcT7NN41HGb2k4j0m7Z-WK",
      "authorship_tag": "ABX9TyMNBsB/w3V7rDxZ2T5VIS/K",
      "include_colab_link": true
    },
    "kernelspec": {
      "name": "python3",
      "display_name": "Python 3"
    },
    "language_info": {
      "name": "python"
    }
  },
  "cells": [
    {
      "cell_type": "markdown",
      "metadata": {
        "id": "view-in-github",
        "colab_type": "text"
      },
      "source": [
        "<a href=\"https://colab.research.google.com/github/Hion-cy/ClassFiles/blob/main/Practica_6_AL263158.ipynb\" target=\"_parent\"><img src=\"https://colab.research.google.com/assets/colab-badge.svg\" alt=\"Open In Colab\"/></a>"
      ]
    },
    {
      "cell_type": "markdown",
      "source": [
        "#Practica 6\n",
        "\n",
        "* Matricula AL263158\n",
        "* Programación para analítica descriptiva y predictiva\n",
        "\n",
        "Instrucciones: Carga el archivo titanic.csv en la carpeta correspondiente de Google drive para realizar los siguientes ejercicios"
      ],
      "metadata": {
        "id": "vKhQpzrl2rWg"
      }
    },
    {
      "cell_type": "code",
      "execution_count": 66,
      "metadata": {
        "colab": {
          "base_uri": "https://localhost:8080/"
        },
        "id": "URgRZe-r2qdU",
        "outputId": "d8414b4b-e02f-4c7c-99d3-827b0afd945c"
      },
      "outputs": [
        {
          "output_type": "stream",
          "name": "stdout",
          "text": [
            "     Survived  Pclass                                               Name  \\\n",
            "0           0       3                             Mr. Owen Harris Braund   \n",
            "1           1       1  Mrs. John Bradley (Florence Briggs Thayer) Cum...   \n",
            "2           1       3                              Miss. Laina Heikkinen   \n",
            "3           1       1        Mrs. Jacques Heath (Lily May Peel) Futrelle   \n",
            "4           0       3                            Mr. William Henry Allen   \n",
            "..        ...     ...                                                ...   \n",
            "882         0       2                               Rev. Juozas Montvila   \n",
            "883         1       1                        Miss. Margaret Edith Graham   \n",
            "884         0       3                     Miss. Catherine Helen Johnston   \n",
            "885         1       1                               Mr. Karl Howell Behr   \n",
            "886         0       3                                 Mr. Patrick Dooley   \n",
            "\n",
            "        Sex   Age  Siblings/Spouses Aboard  Parents/Children Aboard     Fare  \n",
            "0      male  22.0                        1                        0   7.2500  \n",
            "1    female  38.0                        1                        0  71.2833  \n",
            "2    female  26.0                        0                        0   7.9250  \n",
            "3    female  35.0                        1                        0  53.1000  \n",
            "4      male  35.0                        0                        0   8.0500  \n",
            "..      ...   ...                      ...                      ...      ...  \n",
            "882    male  27.0                        0                        0  13.0000  \n",
            "883  female  19.0                        0                        0  30.0000  \n",
            "884  female   7.0                        1                        2  23.4500  \n",
            "885    male  26.0                        0                        0  30.0000  \n",
            "886    male  32.0                        0                        0   7.7500  \n",
            "\n",
            "[887 rows x 8 columns]\n"
          ]
        }
      ],
      "source": [
        "import pandas as pd\n",
        "import numpy as np\n",
        "df=pd.read_csv('drive/MyDrive/ClassFiles/titanic.csv')\n",
        "df=pd.DataFrame(df)\n",
        "print(df)\n"
      ]
    },
    {
      "cell_type": "markdown",
      "source": [
        "##Ejercicio 1\n",
        "***Ejercicio 1: Análisis de la distribución de supervivencia por combinación de sexo y clase del pasajero.***\n",
        "\n",
        "Calcula la proporción de supervivencia para cada combinación de 'Sex' y 'Pclass'.\n",
        " Identifica qué combinación tuvo la tasa de supervivencia más alta.\n",
        "Identifica qué combinación tuvo la tasa de supervivencia más baja."
      ],
      "metadata": {
        "id": "mB44xCB22z_9"
      }
    },
    {
      "cell_type": "code",
      "source": [
        "df_super=df.groupby(['Sex','Pclass'])['Survived'].mean()\n",
        "print(df_super)\n",
        "\n",
        "min_idx = df_super.idxmin()\n",
        "min_val = df_super.loc[min_idx]\n",
        "print(f\"Sexo: {min_idx[0]}, Clase: {min_idx[1]}, Promedio de supervivencia: {min_val:.2f}\")"
      ],
      "metadata": {
        "colab": {
          "base_uri": "https://localhost:8080/"
        },
        "id": "Lcu9M87Q2xvJ",
        "outputId": "b993123f-1ded-4505-9380-39b3022bb6f0"
      },
      "execution_count": 31,
      "outputs": [
        {
          "output_type": "stream",
          "name": "stdout",
          "text": [
            "Sex     Pclass\n",
            "female  1         0.968085\n",
            "        2         0.921053\n",
            "        3         0.500000\n",
            "male    1         0.368852\n",
            "        2         0.157407\n",
            "        3         0.137026\n",
            "Name: Survived, dtype: float64\n",
            "Sexo: male, Clase: 3, Promedio de supervivencia: 0.14\n"
          ]
        }
      ]
    },
    {
      "cell_type": "markdown",
      "source": [
        "***Ejercicio 2: Identificación de familias grandes a bordo.***\n",
        "\n",
        "Crea una nueva columna 'FamilySize' sumando las columnas 'SibSp' y 'Parch'.\n",
        "Considera como \"familia grande\" a aquellas donde 'FamilySize' es mayor a 3.\n",
        "Calcula el número de pasajeros en familias grandes.\n",
        "Calcula la proporción de supervivencia entre los pasajeros que pertenecen a familias grandes."
      ],
      "metadata": {
        "id": "mXN2dz2O8a13"
      }
    },
    {
      "cell_type": "code",
      "source": [
        "df['FamilySize']=df['Siblings/Spouses Aboard']+df['Parents/Children Aboard']\n",
        "f_grande= df[df['FamilySize']>3]\n",
        "print(f'El numero de pasajeros de familias grandes es: {len(f_grande)} de un total de {len(df)}')\n",
        "print(f'La proporcion de supervivencia es: {f_grande[\"Survived\"].mean():.2f}')\n"
      ],
      "metadata": {
        "colab": {
          "base_uri": "https://localhost:8080/"
        },
        "id": "bUFJQB7m_xio",
        "outputId": "d8c71809-8f46-462c-8767-75b92c8cc682"
      },
      "execution_count": 53,
      "outputs": [
        {
          "output_type": "stream",
          "name": "stdout",
          "text": [
            "El numero de pasajeros de familias grandes es: 62 de un total de 887\n",
            "La proporcion de supervivenciaes: 0.16\n"
          ]
        }
      ]
    },
    {
      "cell_type": "markdown",
      "source": [
        "***Ejercicio 3: Segmentación por grupos de edad.***\n",
        "\n",
        "Clasifica a los pasajeros en las siguientes categorías de edad(tip puede resultar mas sencillo realizarlo con una función)\n",
        "\n",
        "Menor de Edad\n",
        "\n",
        "Mayor de Edad"
      ],
      "metadata": {
        "id": "iE92dgcFCOHA"
      }
    },
    {
      "cell_type": "code",
      "source": [
        "def edad_legal(edad):\n",
        "  if edad<18:\n",
        "    return 'Menor de Edad'\n",
        "  else:\n",
        "    return 'Mayor de Edad'\n",
        "\n",
        "df['legal_age']=df['Age'].apply(edad_legal)\n",
        "print(df[['Name','Age','legal_age']])"
      ],
      "metadata": {
        "colab": {
          "base_uri": "https://localhost:8080/"
        },
        "id": "Batcu7YmBpik",
        "outputId": "c0491e19-4a18-4876-ca25-2e44408f160a"
      },
      "execution_count": 65,
      "outputs": [
        {
          "output_type": "stream",
          "name": "stdout",
          "text": [
            "                                                  Name   Age      legal_age\n",
            "0                               Mr. Owen Harris Braund  22.0  Mayor de Edad\n",
            "1    Mrs. John Bradley (Florence Briggs Thayer) Cum...  38.0  Mayor de Edad\n",
            "2                                Miss. Laina Heikkinen  26.0  Mayor de Edad\n",
            "3          Mrs. Jacques Heath (Lily May Peel) Futrelle  35.0  Mayor de Edad\n",
            "4                              Mr. William Henry Allen  35.0  Mayor de Edad\n",
            "..                                                 ...   ...            ...\n",
            "882                               Rev. Juozas Montvila  27.0  Mayor de Edad\n",
            "883                        Miss. Margaret Edith Graham  19.0  Mayor de Edad\n",
            "884                     Miss. Catherine Helen Johnston   7.0  Menor de Edad\n",
            "885                               Mr. Karl Howell Behr  26.0  Mayor de Edad\n",
            "886                                 Mr. Patrick Dooley  32.0  Mayor de Edad\n",
            "\n",
            "[887 rows x 3 columns]\n"
          ]
        }
      ]
    },
    {
      "cell_type": "markdown",
      "source": [
        "***Ejercicio 4: Comparación entre promedios calculados manualmente y con Pandas***\n",
        "\n",
        "Utiliza NumPy para calcular el promedio de las columnas 'Age' y 'Fare', ignorando valores nulos.\n",
        "Compara estos valores con los promedios obtenidos utilizando los métodos nativos de Pandas.\n",
        "Verifica que los resultados sean consistentes."
      ],
      "metadata": {
        "id": "3r_-OE1JDzvZ"
      }
    },
    {
      "cell_type": "code",
      "source": [],
      "metadata": {
        "id": "4H6BKtLKExub"
      },
      "execution_count": null,
      "outputs": []
    },
    {
      "cell_type": "code",
      "source": [
        "npage=np.mean(df['Age'].dropna())\n",
        "pdage=df['Age'].mean()\n",
        "print(f'El promedio de la columna Age en numpy es: {npage:.4f} y el promedio en pandas es: {pdage:.4f}')\n",
        "if npage==pdage:\n",
        "  print('Son iguales')\n",
        "else:\n",
        "  print('No son iguales')\n",
        "\n",
        "npfare=np.mean(df['Fare'].dropna())\n",
        "pdfare=df['Fare'].mean()\n",
        "print(f'El promedio de la columna Fare en numpy es: {npfare:.4f} y el promedio en pandas es: {pdfare:.4f}')\n",
        "if npfare==pdfare:\n",
        "  print('Son iguales')\n",
        "else:\n",
        "  print('No son iguales')"
      ],
      "metadata": {
        "colab": {
          "base_uri": "https://localhost:8080/"
        },
        "id": "TDFZIv10BiF2",
        "outputId": "a4969e77-b29a-477a-8116-3072ee9a8478"
      },
      "execution_count": 78,
      "outputs": [
        {
          "output_type": "stream",
          "name": "stdout",
          "text": [
            "El promedio de la columna Age en numpy es: 29.4714 y el promedio en pandas es: 29.4714\n",
            "Son iguales\n",
            "El promedio de la columna Fare en numpy es: 32.3054 y el promedio en pandas es: 32.3054\n",
            "Son iguales\n"
          ]
        }
      ]
    },
    {
      "cell_type": "markdown",
      "source": [
        "***Ejercicio 5. Creación de intervalos de clase usando NumPy y análisis con Pandas***\n",
        "\n",
        "Divide la columna 'Fare' en 5 intervalos equidistantes utilizando la función numpy.linspace, el estudiante deberá investigar la operación de esta función en python.\n",
        "Crea una nueva columna en el DataFrame que asigne a cada pasajero el intervalo correspondiente de su tarifa.\n",
        "Calcula el número de pasajeros en cada intervalo utilizando Pandas y la proporción de supervivientes por intervalo."
      ],
      "metadata": {
        "id": "lmaqo8gw8hGO"
      }
    },
    {
      "cell_type": "code",
      "source": [
        "\n",
        "#Bins son los intervalos\n",
        "bins=np.linspace(min(df['Fare']),max(df['Fare']),6) # Se utiliza 6 por que toma en cuenta el 0 como intervalo\n",
        "\"\"\"for a in bins:\n",
        "  print(a)\"\"\"\n",
        "df['FareInterval'] = pd.cut(df['Fare'], bins=bins)\n",
        "#print(df)\n",
        "\n",
        "conteo_por_intervalo = df['FareInterval'].value_counts().sort_index()\n",
        "print(\"Número de pasajeros por intervalo:\\n\", conteo_por_intervalo)\n",
        "prointervalo_super = df.groupby('FareInterval', observed=True)['Survived'].mean().round(2)\n",
        "print(f\"\\nProporción de supervivientes por intervalo:\\n{prointervalo_super}\")"
      ],
      "metadata": {
        "colab": {
          "base_uri": "https://localhost:8080/"
        },
        "id": "uRMRO7wWGCqD",
        "outputId": "d24c85e8-ecb0-48e8-ebfc-89fc5c0df3e8"
      },
      "execution_count": 95,
      "outputs": [
        {
          "output_type": "stream",
          "name": "stdout",
          "text": [
            "Número de pasajeros por intervalo:\n",
            " FareInterval\n",
            "(0.0, 102.466]        819\n",
            "(102.466, 204.932]     33\n",
            "(204.932, 307.398]     17\n",
            "(307.398, 409.863]      0\n",
            "(409.863, 512.329]      3\n",
            "Name: count, dtype: int64\n",
            "\n",
            "Proporción de supervivientes por intervalo:\n",
            "FareInterval\n",
            "(0.0, 102.466]        0.37\n",
            "(102.466, 204.932]    0.76\n",
            "(204.932, 307.398]    0.65\n",
            "(409.863, 512.329]    1.00\n",
            "Name: Survived, dtype: float64\n"
          ]
        }
      ]
    },
    {
      "cell_type": "markdown",
      "source": [],
      "metadata": {
        "id": "FwQTZSrIF6k3"
      }
    }
  ]
}